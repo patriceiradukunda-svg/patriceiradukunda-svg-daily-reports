{
 "cells": [
  {
   "cell_type": "markdown",
   "id": "c2f5c15f-bb4e-4557-a978-2345aee6a5b3",
   "metadata": {},
   "source": [
    "# Report of day 4\n",
    "\n",
    "## Name: Patrice IRADUKUNDA\n",
    "## Master’s Student: Mathematical Science – Regular\n",
    "### Date: Thursday, September 25, 2025"
   ]
  },
  {
   "cell_type": "markdown",
   "id": "85fa5463-c031-498b-a819-429aa4e5dc2f",
   "metadata": {},
   "source": [
    "# Strings and Files"
   ]
  },
  {
   "cell_type": "code",
   "execution_count": 8,
   "id": "4e7b05a9-29e2-492e-b5f0-54e450f26cbe",
   "metadata": {},
   "outputs": [],
   "source": [
    "string_1 = \"Will you be at the meeting tonight?\"\n",
    "string_2 = '\"Yes\", he replies.'\n"
   ]
  },
  {
   "cell_type": "code",
   "execution_count": 4,
   "id": "4d10e694-ce1c-4d31-978f-905356257955",
   "metadata": {},
   "outputs": [
    {
     "name": "stdout",
     "output_type": "stream",
     "text": [
      " Will you be at the meeting tonight?\n"
     ]
    }
   ],
   "source": [
    "print(string_1)"
   ]
  },
  {
   "cell_type": "code",
   "execution_count": 6,
   "id": "88af9b96-377b-40e4-8061-120e66dbc1c8",
   "metadata": {},
   "outputs": [
    {
     "name": "stdout",
     "output_type": "stream",
     "text": [
      "\"Yes\", he replies.\n"
     ]
    }
   ],
   "source": [
    "print(string_2)"
   ]
  },
  {
   "cell_type": "markdown",
   "id": "da00bb1f-4e43-4533-9069-3c1e2ad90be0",
   "metadata": {},
   "source": [
    "## Indexing"
   ]
  },
  {
   "cell_type": "code",
   "execution_count": 9,
   "id": "c8955320-0ab2-4bce-9fef-653dca7e08c4",
   "metadata": {},
   "outputs": [
    {
     "data": {
      "text/plain": [
       "'W'"
      ]
     },
     "execution_count": 9,
     "metadata": {},
     "output_type": "execute_result"
    }
   ],
   "source": [
    "string_1[0]"
   ]
  },
  {
   "cell_type": "code",
   "execution_count": 10,
   "id": "815df0ad-9031-4fab-86e5-410d4f1590ff",
   "metadata": {},
   "outputs": [
    {
     "data": {
      "text/plain": [
       "'l'"
      ]
     },
     "execution_count": 10,
     "metadata": {},
     "output_type": "execute_result"
    }
   ],
   "source": [
    "string_1[2]"
   ]
  },
  {
   "cell_type": "code",
   "execution_count": 11,
   "id": "5085da51-8735-4f0d-b2f1-d1eda761ba84",
   "metadata": {},
   "outputs": [
    {
     "name": "stdout",
     "output_type": "stream",
     "text": [
      "Will you be at the meeting tonight?\n",
      "The second character of my string is l\n"
     ]
    }
   ],
   "source": [
    "print(string_1)\n",
    "print(\"The second character of my string is\", string_1[2])"
   ]
  },
  {
   "cell_type": "markdown",
   "id": "9a0fe6a2-1bd1-4b1d-823a-5350f0b3e625",
   "metadata": {},
   "source": [
    "## Slicing"
   ]
  },
  {
   "cell_type": "code",
   "execution_count": 15,
   "id": "dfefd1a5-391c-4cdd-bf14-be4308258f8e",
   "metadata": {},
   "outputs": [
    {
     "name": "stdout",
     "output_type": "stream",
     "text": [
      "Will you be at the meeting tonight?\n"
     ]
    },
    {
     "data": {
      "text/plain": [
       "'Wi'"
      ]
     },
     "execution_count": 15,
     "metadata": {},
     "output_type": "execute_result"
    }
   ],
   "source": [
    "print(string_1)\n",
    "string_1[2:8:2]\n",
    "string_1[2::2]\n",
    "string_1[::2]"
   ]
  },
  {
   "cell_type": "code",
   "execution_count": 16,
   "id": "071c5e14-1f07-4271-8731-c81c400febf9",
   "metadata": {},
   "outputs": [
    {
     "data": {
      "text/plain": [
       "35"
      ]
     },
     "execution_count": 16,
     "metadata": {},
     "output_type": "execute_result"
    }
   ],
   "source": [
    "len(string_1) #Length of te string"
   ]
  },
  {
   "cell_type": "markdown",
   "id": "46649955-fb60-44a4-a0cf-3e22919a3db7",
   "metadata": {},
   "source": [
    "## Concatenation"
   ]
  },
  {
   "cell_type": "code",
   "execution_count": 28,
   "id": "72b7e2a3-6759-4dbe-afa3-df2071745eef",
   "metadata": {},
   "outputs": [
    {
     "name": "stdout",
     "output_type": "stream",
     "text": [
      "Hello, World\n",
      "WorldHello, \n",
      "Hello, Hello, \n"
     ]
    }
   ],
   "source": [
    "myvar1=\"Hello, \"\n",
    "myvar2= \"World\"\n",
    "concat= myvar1+ myvar2\n",
    "concat1= myvar2+ myvar1\n",
    "print(concat)\n",
    "print(concat1)\n",
    "print(myvar1*2)\n",
    "#print(concat*2.5) #TypeError: can't multiply sequence by non-int of type 'float'"
   ]
  },
  {
   "cell_type": "code",
   "execution_count": 35,
   "id": "b75955ca-4049-4992-b026-48f31d3c32f0",
   "metadata": {},
   "outputs": [
    {
     "name": "stdout",
     "output_type": "stream",
     "text": [
      "['__add__', '__class__', '__contains__', '__delattr__', '__dir__', '__doc__', '__eq__', '__format__', '__ge__', '__getattribute__', '__getitem__', '__getnewargs__', '__getstate__', '__gt__', '__hash__', '__init__', '__init_subclass__', '__iter__', '__le__', '__len__', '__lt__', '__mod__', '__mul__', '__ne__', '__new__', '__reduce__', '__reduce_ex__', '__repr__', '__rmod__', '__rmul__', '__setattr__', '__sizeof__', '__str__', '__subclasshook__', 'capitalize', 'casefold', 'center', 'count', 'encode', 'endswith', 'expandtabs', 'find', 'format', 'format_map', 'index', 'isalnum', 'isalpha', 'isascii', 'isdecimal', 'isdigit', 'isidentifier', 'islower', 'isnumeric', 'isprintable', 'isspace', 'istitle', 'isupper', 'join', 'ljust', 'lower', 'lstrip', 'maketrans', 'partition', 'removeprefix', 'removesuffix', 'replace', 'rfind', 'rindex', 'rjust', 'rpartition', 'rsplit', 'rstrip', 'split', 'splitlines', 'startswith', 'strip', 'swapcase', 'title', 'translate', 'upper', 'zfill']\n",
      "['Patrice']\n"
     ]
    }
   ],
   "source": [
    "name=\"Patrice\"\n",
    "print(dir(name))\n",
    "print(name.split(\",\"))\n"
   ]
  },
  {
   "cell_type": "code",
   "execution_count": 2,
   "id": "b6fbd4bd-a98f-408f-ae06-4a53f8578bb0",
   "metadata": {},
   "outputs": [],
   "source": [
    "name = \"Patrice\"\n",
    "for i in dir(name):\n",
    "    print(help(i))\n",
    "    "
   ]
  },
  {
   "cell_type": "code",
   "execution_count": 42,
   "id": "0bb70479-faf5-49b6-85f0-11983427da32",
   "metadata": {},
   "outputs": [
    {
     "name": "stdout",
     "output_type": "stream",
     "text": [
      " Volume in drive C has no label.\n",
      " Volume Serial Number is D044-CEC3\n",
      "\n",
      " Directory of C:\\Users\\MSA WIN10 G\\OneDrive\n",
      "\n",
      "09/25/2025  12:22 PM    <DIR>          .\n",
      "09/25/2025  12:22 PM    <DIR>          ..\n",
      "09/25/2025  11:10 AM    <DIR>          .ipynb_checkpoints\n",
      "09/22/2025  06:05 PM    <DIR>          AIMS-Digital-Life-Portal\n",
      "09/12/2025  09:55 PM    <DIR>          Attachments\n",
      "09/22/2025  11:00 AM    <DIR>          Bloock2class\n",
      "09/22/2025  10:58 AM    <DIR>          class\n",
      "09/23/2025  03:25 PM    <DIR>          Daily-Report---Python-Programming\n",
      "09/25/2025  12:22 PM            46,503 day03.ipynb\n",
      "09/12/2025  09:06 PM    <DIR>          Documents\n",
      "09/25/2025  12:18 PM    <DIR>          filename.txt\n",
      "09/12/2025  09:06 PM         1,151,898 Getting started with OneDrive.pdf\n",
      "09/24/2025  12:36 PM    <DIR>          patriceiradukunda-svg-daily-reports\n",
      "09/25/2025  11:04 AM             1,140 Personal Vault.lnk\n",
      "09/12/2025  09:06 PM    <DIR>          Pictures\n",
      "09/22/2025  10:58 AM    <DIR>          projects\n",
      "09/22/2025  10:58 AM    <DIR>          Python\n",
      "09/25/2025  07:48 AM    <DIR>          Python_tut\n",
      "09/21/2025  02:48 PM     1,163,051,008 SQLServer2022-x64-ENU.iso\n",
      "09/21/2025  08:41 PM    <DIR>          student_app\n",
      "09/25/2025  11:09 AM                 0 Thursday.txt\n",
      "               5 File(s)  1,164,250,549 bytes\n",
      "              16 Dir(s)  144,440,102,912 bytes free\n"
     ]
    }
   ],
   "source": [
    "!dir"
   ]
  },
  {
   "cell_type": "code",
   "execution_count": 13,
   "id": "732f4d51-94df-4ea0-96cd-1785ec51fb0c",
   "metadata": {},
   "outputs": [
    {
     "name": "stdout",
     "output_type": "stream",
     "text": [
      " Volume in drive C has no label.\n",
      " Volume Serial Number is D044-CEC3\n",
      "\n",
      " Directory of C:\\Users\\MSA WIN10 G\\OneDrive\\patriceiradukunda-svg-daily-reports\n",
      "\n",
      "09/25/2025  08:43 PM    <DIR>          .\n",
      "09/25/2025  08:43 PM    <DIR>          ..\n",
      "09/25/2025  07:50 PM    <DIR>          .ipynb_checkpoints\n",
      "09/23/2025  10:56 AM             6,021 command_mode.png\n",
      "09/23/2025  10:56 AM             6,030 edit_mode.png\n",
      "09/23/2025  10:56 AM            17,311 menubar_toolbar.png\n",
      "09/08/2025  06:26 AM            24,337 Patrice.jpg\n",
      "09/23/2025  04:36 PM            26,353 patriceiradukunda-svg-day00-report.ipynb\n",
      "09/24/2025  11:51 AM            89,249 patriceiradukunda-svg-day01-report.ipynb\n",
      "09/25/2025  08:11 PM            53,342 patriceiradukunda-svg-day02-report.ipynb\n",
      "09/25/2025  08:43 PM            16,112 patriceiradukunda-svg-day03-report.ipynb\n",
      "09/23/2025  03:40 PM             3,309 README.md\n",
      "09/25/2025  08:20 PM                51 testfile.txt\n",
      "09/25/2025  08:42 PM                46 testfile1.txt\n",
      "              11 File(s)        242,161 bytes\n",
      "               3 Dir(s)  136,531,787,776 bytes free\n"
     ]
    }
   ],
   "source": [
    "!dir"
   ]
  },
  {
   "cell_type": "code",
   "execution_count": 24,
   "id": "ea37e5b4-084f-46ad-ba7b-3d242dbe197b",
   "metadata": {},
   "outputs": [
    {
     "name": "stdout",
     "output_type": "stream",
     "text": [
      "fghij\n",
      "aims class\n",
      "Rwanda 2025\n",
      "this is really cool\n"
     ]
    }
   ],
   "source": [
    "reading_exercises = open(\"testfile.txt\", \"r\")\n",
    "print(reading_exercises.read())\n",
    "reading_exercises.close()\n"
   ]
  },
  {
   "cell_type": "code",
   "execution_count": 20,
   "id": "cd8a3062-097d-4401-ab94-b7e0f185335f",
   "metadata": {},
   "outputs": [
    {
     "name": "stdout",
     "output_type": "stream",
     "text": [
      "fghij\n",
      "aims class\n",
      "Rwanda 2025\n",
      "this is really cool\n"
     ]
    }
   ],
   "source": [
    "reading_exercises = open(\"testfile.txt\", \"r\")\n",
    "for i in reading_exercises:\n",
    "    print(i.strip())\n",
    "reading_exercises.close()"
   ]
  },
  {
   "cell_type": "code",
   "execution_count": 45,
   "id": "249d5621-10bb-46e7-b257-1e5fef5d9402",
   "metadata": {},
   "outputs": [],
   "source": [
    "#mkdir filename12.txt"
   ]
  },
  {
   "cell_type": "code",
   "execution_count": 50,
   "id": "cf2d1298-dc9e-4447-b717-644871dee876",
   "metadata": {},
   "outputs": [],
   "source": [
    "filename= open(\"testfile.txt\",\"w\")\n",
    "filename.write('fgjdhjshshsh aims class Rwanda patrice ')\n",
    "filename.close()"
   ]
  },
  {
   "cell_type": "code",
   "execution_count": 54,
   "id": "e46d7101-3a6f-4649-a4b3-28b5aba58284",
   "metadata": {},
   "outputs": [
    {
     "data": {
      "text/plain": [
       "['fgjdhjshshsh aims class Rwanda patrice ']"
      ]
     },
     "execution_count": 54,
     "metadata": {},
     "output_type": "execute_result"
    }
   ],
   "source": [
    "filename= open(\"testfile.txt\",\"r\")\n",
    "filename.readlines()"
   ]
  },
  {
   "cell_type": "code",
   "execution_count": 8,
   "id": "56ebcd61-b0b2-47cc-985f-dcf240a17e65",
   "metadata": {},
   "outputs": [],
   "source": [
    "filename= open(\"testfile1.txt\",\"w\")\n",
    "filename.write('''fgjdhjshshsh\n",
    "aims \n",
    "class \n",
    "Rwanda \n",
    "patrice ''')\n",
    "filename.close()"
   ]
  },
  {
   "cell_type": "code",
   "execution_count": 9,
   "id": "e83a8f1d-078d-49e2-963b-a6abd89a3e83",
   "metadata": {},
   "outputs": [
    {
     "data": {
      "text/plain": [
       "['fgjdhjshshsh\\n', 'aims \\n', 'class \\n', 'Rwanda \\n', 'patrice ']"
      ]
     },
     "execution_count": 9,
     "metadata": {},
     "output_type": "execute_result"
    }
   ],
   "source": [
    "filename= open(\"testfile1.txt\",\"r\")\n",
    "filename.readlines()"
   ]
  }
 ],
 "metadata": {
  "kernelspec": {
   "display_name": "Python 3 (ipykernel)",
   "language": "python",
   "name": "python3"
  },
  "language_info": {
   "codemirror_mode": {
    "name": "ipython",
    "version": 3
   },
   "file_extension": ".py",
   "mimetype": "text/x-python",
   "name": "python",
   "nbconvert_exporter": "python",
   "pygments_lexer": "ipython3",
   "version": "3.13.2"
  }
 },
 "nbformat": 4,
 "nbformat_minor": 5
}
