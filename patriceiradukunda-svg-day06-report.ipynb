{
 "cells": [
  {
   "cell_type": "markdown",
   "id": "c9d5a4ed-6260-4a38-9983-aa84ca7bc30a",
   "metadata": {},
   "source": [
    "# Flow control"
   ]
  },
  {
   "cell_type": "markdown",
   "id": "10398a34-1c45-41ba-8963-fc0262d426ac",
   "metadata": {},
   "source": [
    "## if and else"
   ]
  },
  {
   "cell_type": "code",
   "execution_count": 3,
   "id": "c96fe0b3-1a44-4d85-91df-9c4fcf9a851f",
   "metadata": {},
   "outputs": [
    {
     "name": "stdout",
     "output_type": "stream",
     "text": [
      "27\n",
      "We don't have it\n"
     ]
    }
   ],
   "source": [
    "#if clause\n",
    "a=27\n",
    "print(a)\n",
    "if (a>29):\n",
    "    print(\"We have it\")\n",
    "else:\n",
    "    print(\"We don't have it\")"
   ]
  },
  {
   "cell_type": "markdown",
   "id": "21b13e54-53d0-43e9-9427-363f2a25af57",
   "metadata": {},
   "source": [
    "## if, elif and else"
   ]
  },
  {
   "cell_type": "code",
   "execution_count": 4,
   "id": "36622547-4797-4ebe-839f-333a103d6c73",
   "metadata": {},
   "outputs": [
    {
     "name": "stdout",
     "output_type": "stream",
     "text": [
      "27\n",
      "You got it\n"
     ]
    }
   ],
   "source": [
    "#if clause\n",
    "a=27\n",
    "print(a)\n",
    "if (a>29):\n",
    "    print(\"We have it\")\n",
    "elif (a==27):\n",
    "    print(\"You got it\")\n",
    "else:\n",
    "    print(\"We don't have it\")"
   ]
  },
  {
   "cell_type": "markdown",
   "id": "8bc17373-a7d0-4ed5-b504-533f83923a7d",
   "metadata": {},
   "source": [
    "## Nested "
   ]
  },
  {
   "cell_type": "code",
   "execution_count": 5,
   "id": "def3e93d-7bbb-4581-85ac-587f9dc3b4b5",
   "metadata": {},
   "outputs": [
    {
     "name": "stdout",
     "output_type": "stream",
     "text": [
      "27\n",
      "You got it\n"
     ]
    }
   ],
   "source": [
    "#if clause\n",
    "a=27\n",
    "b=10\n",
    "print(a)\n",
    "if (a>29):\n",
    "    print(\"We have it\")\n",
    "    if (a-b>4):\n",
    "        print(\"The diff is ....\")\n",
    "    else: \n",
    "        print(\"The diff is ....\")\n",
    "    \n",
    "elif (a==27):\n",
    "    print(\"You got it\")\n",
    "else:\n",
    "    print(\"We don't have it\")"
   ]
  },
  {
   "cell_type": "markdown",
   "id": "38055892-3291-43ef-b41c-17f9f9947bb9",
   "metadata": {},
   "source": [
    "## Solving Quadr"
   ]
  },
  {
   "cell_type": "code",
   "execution_count": 14,
   "id": "3e6eee49-4843-4e1d-8659-a17cf6444a29",
   "metadata": {},
   "outputs": [
    {
     "name": "stdin",
     "output_type": "stream",
     "text": [
      "Enter coef of a:  3\n",
      "Enter coef of b:  4\n",
      "Enter coef of c:  5\n"
     ]
    },
    {
     "name": "stdout",
     "output_type": "stream",
     "text": [
      "Complex roots: x1 = -0.6666666666666666 + 1.1055415967851332i, x2 = -0.6666666666666666 - 1.1055415967851332i\n"
     ]
    }
   ],
   "source": [
    "import math\n",
    "a = int(input(\"Enter coef of a: \"))\n",
    "b = int(input(\"Enter coef of b: \"))\n",
    "c = int(input(\"Enter coef of c: \"))\n",
    "\n",
    "delt = b**2 - 4*a*c\n",
    "\n",
    "if a != 0:\n",
    "    if delt > 0:\n",
    "        root1 = (-b + math.sqrt(delt)) / (2*a)\n",
    "        root2 = (-b - math.sqrt(delt)) / (2*a)\n",
    "        print(f\"Two real roots: x1 = {root1}, x2 = {root2}\")\n",
    "    elif delt == 0:\n",
    "        root = -b / (2*a)\n",
    "        print(f\"One real root (double root): x = {root}\")\n",
    "    else:\n",
    "        real_part = -b / (2*a)\n",
    "        imag_part = math.sqrt(-delt) / (2*a)\n",
    "        print(f\"Complex roots: x1 = {real_part} + {imag_part}i, x2 = {real_part} - {imag_part}i\")\n",
    "else:\n",
    "    print(\"Quadratic equation not defined (a = 0)\")"
   ]
  },
  {
   "cell_type": "markdown",
   "id": "f831aec4-9497-4a24-9644-29a14284f5f7",
   "metadata": {},
   "source": [
    "## Loops"
   ]
  },
  {
   "cell_type": "markdown",
   "id": "b12852cd-2dd8-437d-8d9f-b0ac3ce9d63d",
   "metadata": {},
   "source": [
    "### while loop"
   ]
  },
  {
   "cell_type": "code",
   "execution_count": 17,
   "id": "0f75b4fd-f1d0-4e12-8cb2-1812a12c7440",
   "metadata": {},
   "outputs": [
    {
     "name": "stdout",
     "output_type": "stream",
     "text": [
      "The value of i is 1\n",
      "The value of i is 2\n",
      "The value of i is 3\n",
      "The value of i is 4\n",
      "The value of i is 5\n",
      "The value of i is 6\n",
      "The value of i is 7\n",
      "The value of i is 8\n",
      "The value of i is 9\n"
     ]
    }
   ],
   "source": [
    "i=1\n",
    "while (i<10):\n",
    "    print(\"The value of i is\", i)\n",
    "    i=i+1"
   ]
  },
  {
   "cell_type": "markdown",
   "id": "8ee4d975-f0eb-4fde-a689-e50a15d8ed33",
   "metadata": {},
   "source": [
    "### for loop"
   ]
  },
  {
   "cell_type": "code",
   "execution_count": 22,
   "id": "b185f331-5c06-48b2-820e-59a1dfb6453d",
   "metadata": {},
   "outputs": [
    {
     "name": "stdout",
     "output_type": "stream",
     "text": [
      "0\n",
      "1\n",
      "2\n",
      "3\n",
      "4\n",
      "5\n",
      "6\n",
      "7\n",
      "8\n",
      "9\n"
     ]
    }
   ],
   "source": [
    "n=10\n",
    "for i in range (n):\n",
    " print(i)"
   ]
  },
  {
   "cell_type": "code",
   "execution_count": 24,
   "id": "7ea8dc8b-cf3a-44da-bb35-5a0d8931ebbf",
   "metadata": {},
   "outputs": [
    {
     "name": "stdout",
     "output_type": "stream",
     "text": [
      "try again\n",
      "try again\n",
      "try again\n",
      "stop we got it\n"
     ]
    }
   ],
   "source": [
    "list_fr=[3,5,\"hello\", True]\n",
    "for i in list_fr:\n",
    "    if i==True:\n",
    "        print(\"stop we got it\")\n",
    "        break\n",
    "    else:\n",
    "        print(\"try again\")"
   ]
  },
  {
   "cell_type": "code",
   "execution_count": 29,
   "id": "93abdab7-26a4-43f5-a787-b89b876388a0",
   "metadata": {},
   "outputs": [
    {
     "name": "stdout",
     "output_type": "stream",
     "text": [
      "The letter I, is vowel\n",
      "The letter n, is consonant\n",
      "The letter i, is vowel\n",
      "The letter t, is consonant\n",
      "The letter i, is vowel\n",
      "The letter a, is vowel\n",
      "The letter l, is consonant\n",
      "The letter i, is vowel\n",
      "The letter z, is consonant\n",
      "The letter a, is vowel\n",
      "The letter t, is consonant\n",
      "The letter i, is vowel\n",
      "The letter o, is vowel\n",
      "The letter n, is consonant\n",
      "The letter ,, is consonant\n",
      "this is space\n",
      "The letter c, is consonant\n",
      "The letter o, is vowel\n",
      "The letter n, is consonant\n",
      "The letter d, is consonant\n",
      "The letter i, is vowel\n",
      "The letter t, is consonant\n",
      "The letter i, is vowel\n",
      "The letter o, is vowel\n",
      "The letter n, is consonant\n",
      "The letter ,, is consonant\n",
      "this is space\n",
      "The letter a, is vowel\n",
      "The letter n, is consonant\n",
      "The letter d, is consonant\n",
      "this is space\n",
      "The letter i, is vowel\n",
      "The letter t, is consonant\n",
      "The letter e, is vowel\n",
      "The letter r, is consonant\n",
      "The letter a, is vowel\n",
      "The letter t, is consonant\n",
      "The letter i, is vowel\n",
      "The letter o, is vowel\n",
      "The letter n, is consonant\n",
      "this is space\n",
      "The letter a, is vowel\n",
      "The letter r, is consonant\n",
      "The letter e, is vowel\n",
      "this is space\n",
      "The letter h, is consonant\n",
      "The letter a, is vowel\n",
      "The letter n, is consonant\n",
      "The letter d, is consonant\n",
      "The letter l, is consonant\n",
      "The letter e, is vowel\n",
      "The letter d, is consonant\n",
      "this is space\n",
      "The letter w, is consonant\n",
      "The letter i, is vowel\n",
      "The letter t, is consonant\n",
      "The letter h, is consonant\n",
      "The letter i, is vowel\n",
      "The letter n, is consonant\n",
      "this is space\n",
      "The letter t, is consonant\n",
      "The letter h, is consonant\n",
      "The letter e, is vowel\n",
      "this is space\n",
      "The letter l, is consonant\n",
      "The letter o, is vowel\n",
      "The letter o, is vowel\n",
      "The letter p, is consonant\n",
      "this is space\n",
      "The letter s, is consonant\n",
      "The letter t, is consonant\n",
      "The letter r, is consonant\n",
      "The letter u, is vowel\n",
      "The letter c, is consonant\n",
      "The letter t, is consonant\n",
      "The letter u, is vowel\n",
      "The letter r, is consonant\n",
      "The letter e, is vowel\n",
      "The letter ., is consonant\n"
     ]
    }
   ],
   "source": [
    "sent= \"Initialization, condition, and iteration are handled within the loop structure.\"\n",
    "for letter in sent:\n",
    "    if letter in \"AEUOIaeuoi\":\n",
    "        print(f'The letter {letter}, is vowel')\n",
    "    elif letter==\" \":\n",
    "        print(f'this is space')\n",
    "    else:\n",
    "        print(f'The letter {letter}, is consonant')\n",
    "        "
   ]
  }
 ],
 "metadata": {
  "kernelspec": {
   "display_name": "Python 3 (ipykernel)",
   "language": "python",
   "name": "python3"
  },
  "language_info": {
   "codemirror_mode": {
    "name": "ipython",
    "version": 3
   },
   "file_extension": ".py",
   "mimetype": "text/x-python",
   "name": "python",
   "nbconvert_exporter": "python",
   "pygments_lexer": "ipython3",
   "version": "3.13.2"
  }
 },
 "nbformat": 4,
 "nbformat_minor": 5
}
