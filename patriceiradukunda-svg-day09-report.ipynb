{
 "cells": [
  {
   "cell_type": "markdown",
   "id": "6113e7ed-4a7a-4b3d-8a99-ef906f59f506",
   "metadata": {},
   "source": [
    "Variable +Type+Operations"
   ]
  },
  {
   "cell_type": "code",
   "execution_count": 4,
   "id": "03cb989d-546b-434d-8e05-1bbc1a65fe42",
   "metadata": {},
   "outputs": [],
   "source": [
    "myint=32\n",
    "myfloat=1.8\n",
    "mystr= \"Aims is in Kigali\""
   ]
  },
  {
   "cell_type": "code",
   "execution_count": 8,
   "id": "00504f04-87a2-4c57-af16-af5d2576664e",
   "metadata": {},
   "outputs": [
    {
     "name": "stdout",
     "output_type": "stream",
     "text": [
      "1.8 <class 'float'>\n",
      "Aims is in Kigali <class 'str'>\n",
      "32 <class 'int'>\n"
     ]
    }
   ],
   "source": [
    "print(myfloat,type(myfloat) )\n",
    "print(mystr, type(mystr))\n",
    "print(myint, type(myint))"
   ]
  },
  {
   "cell_type": "code",
   "execution_count": 9,
   "id": "13027dc6-e4a6-48a1-bff9-792b145aa4bf",
   "metadata": {},
   "outputs": [
    {
     "name": "stdout",
     "output_type": "stream",
     "text": [
      "3.6\n",
      "Aims is in KigaliAims is in Kigali\n",
      "64\n"
     ]
    }
   ],
   "source": [
    "print(myfloat+ myfloat )\n",
    "print(mystr+mystr)\n",
    "print(myint +myint)"
   ]
  },
  {
   "cell_type": "code",
   "execution_count": 10,
   "id": "d9b0285e-349e-4ed9-ba37-6065a27f57fe",
   "metadata": {},
   "outputs": [
    {
     "data": {
      "text/plain": [
       "32.0"
      ]
     },
     "execution_count": 10,
     "metadata": {},
     "output_type": "execute_result"
    }
   ],
   "source": [
    "myfloat2= float(myint)\n",
    "myfloat2"
   ]
  },
  {
   "cell_type": "code",
   "execution_count": 11,
   "id": "003023cb-311a-4107-a2a5-f1eb80e89cd8",
   "metadata": {},
   "outputs": [
    {
     "data": {
      "text/plain": [
       "'A'"
      ]
     },
     "execution_count": 11,
     "metadata": {},
     "output_type": "execute_result"
    }
   ],
   "source": [
    "mystr[0]"
   ]
  },
  {
   "cell_type": "code",
   "execution_count": 12,
   "id": "2164c078-4735-44a7-b001-da21497e8ed7",
   "metadata": {},
   "outputs": [
    {
     "data": {
      "text/plain": [
       "'i'"
      ]
     },
     "execution_count": 12,
     "metadata": {},
     "output_type": "execute_result"
    }
   ],
   "source": [
    "mystr[-1]"
   ]
  },
  {
   "cell_type": "code",
   "execution_count": 14,
   "id": "135ac8b3-4eb8-46aa-9806-40a87fed9600",
   "metadata": {},
   "outputs": [
    {
     "data": {
      "text/plain": [
       "' '"
      ]
     },
     "execution_count": 14,
     "metadata": {},
     "output_type": "execute_result"
    }
   ],
   "source": [
    "mystr[4]"
   ]
  },
  {
   "cell_type": "code",
   "execution_count": 15,
   "id": "92a9c975-c570-4341-8330-e13d71e0916c",
   "metadata": {},
   "outputs": [
    {
     "data": {
      "text/plain": [
       "'m s'"
      ]
     },
     "execution_count": 15,
     "metadata": {},
     "output_type": "execute_result"
    }
   ],
   "source": [
    "mystr[2:8:2]"
   ]
  },
  {
   "cell_type": "markdown",
   "id": "5a8e23e8-f09a-4903-ad33-5d788b53800f",
   "metadata": {},
   "source": [
    "list, tuple, sets, dictio"
   ]
  },
  {
   "cell_type": "code",
   "execution_count": 17,
   "id": "2b36d500-a327-498a-a331-4548afab4650",
   "metadata": {},
   "outputs": [
    {
     "data": {
      "text/plain": [
       "[2, 5, 'Aims', 34, 5, 67, 2, 'Aims is in Kigali']"
      ]
     },
     "execution_count": 17,
     "metadata": {},
     "output_type": "execute_result"
    }
   ],
   "source": [
    "mylist=[2, 5, \"Aims\", 34, 5,67,2, mystr]\n",
    "mylist"
   ]
  },
  {
   "cell_type": "code",
   "execution_count": 19,
   "id": "c15ed831-dcb6-44fd-b915-b6a01ca32440",
   "metadata": {},
   "outputs": [
    {
     "data": {
      "text/plain": [
       "'Aims is in Kigali'"
      ]
     },
     "execution_count": 19,
     "metadata": {},
     "output_type": "execute_result"
    }
   ],
   "source": [
    "mylist[-1]"
   ]
  },
  {
   "cell_type": "code",
   "execution_count": 23,
   "id": "4db9a3d8-3104-470d-9e53-8dc972ba0bd3",
   "metadata": {},
   "outputs": [
    {
     "name": "stdout",
     "output_type": "stream",
     "text": [
      "    2>>>>>> <class 'int'>\n",
      "    5>>>>>> <class 'int'>\n",
      "Aims >>>>>> <class 'str'>\n",
      "   34>>>>>> <class 'int'>\n",
      "    5>>>>>> <class 'int'>\n",
      "   67>>>>>> <class 'int'>\n",
      "    2>>>>>> <class 'int'>\n",
      "Aims is in Kigali>>>>>> <class 'str'>\n"
     ]
    }
   ],
   "source": [
    "for i in mylist:\n",
    "    print(f'{i:5}>>>>>> {type(i)}')"
   ]
  },
  {
   "cell_type": "code",
   "execution_count": 25,
   "id": "f8aa69cf-eebe-4bf1-8e51-04e1cb5d5dbc",
   "metadata": {},
   "outputs": [],
   "source": [
    "mylistapp=mylist+[1,2,3,0.45,6,90]"
   ]
  },
  {
   "cell_type": "code",
   "execution_count": 26,
   "id": "516cd6e4-7f7f-46da-825c-68e58aa20853",
   "metadata": {},
   "outputs": [
    {
     "data": {
      "text/plain": [
       "['Aims', 67, 1]"
      ]
     },
     "execution_count": 26,
     "metadata": {},
     "output_type": "execute_result"
    }
   ],
   "source": [
    "mylistapp[2:10:3]"
   ]
  },
  {
   "cell_type": "code",
   "execution_count": 27,
   "id": "919808b3-6840-49c6-8c3d-7d39fe4d814e",
   "metadata": {},
   "outputs": [],
   "source": [
    "m = [{\"name\": \"Alice\", \"age\": 20}, {\"name\": \"Bob\", \"age\": 25}]"
   ]
  },
  {
   "cell_type": "code",
   "execution_count": null,
   "id": "ec7e4233-999f-4185-8673-0f835c2925b1",
   "metadata": {},
   "outputs": [],
   "source": []
  },
  {
   "cell_type": "code",
   "execution_count": null,
   "id": "a094387d-c24e-4704-a723-873a2850920f",
   "metadata": {},
   "outputs": [],
   "source": []
  },
  {
   "cell_type": "code",
   "execution_count": null,
   "id": "31210ccb-ee2d-432f-b2d3-c49f2f6b8c0d",
   "metadata": {},
   "outputs": [],
   "source": []
  },
  {
   "cell_type": "markdown",
   "id": "286ac76d-62fa-4f1d-8aeb-5a82f966b058",
   "metadata": {},
   "source": [
    "# Flow control "
   ]
  },
  {
   "cell_type": "code",
   "execution_count": 30,
   "id": "97c12097-b6ad-4e57-b9ba-4543198b6bb5",
   "metadata": {},
   "outputs": [
    {
     "name": "stdout",
     "output_type": "stream",
     "text": [
      "this the one\n"
     ]
    }
   ],
   "source": [
    "a=10\n",
    "if a>=20:\n",
    "    print(a)\n",
    "elif a==10:\n",
    "    print('this the one')\n",
    "else:\n",
    "    print(\"Not found\")"
   ]
  },
  {
   "cell_type": "code",
   "execution_count": 31,
   "id": "68855e30-3bf4-41f3-aef6-b27c1f7150c9",
   "metadata": {},
   "outputs": [
    {
     "name": "stdout",
     "output_type": "stream",
     "text": [
      "2\n",
      "5\n",
      "Aims\n",
      "34\n",
      "5\n",
      "67\n",
      "2\n",
      "Aims is in Kigali\n",
      "1\n",
      "2\n",
      "3\n",
      "0.45\n",
      "6\n",
      "90\n"
     ]
    }
   ],
   "source": [
    "for i in mylistapp:\n",
    "    print(i)"
   ]
  },
  {
   "cell_type": "code",
   "execution_count": 32,
   "id": "625f76cc-dd5b-4d9b-b0e7-ac69bca4af9c",
   "metadata": {},
   "outputs": [
    {
     "name": "stdout",
     "output_type": "stream",
     "text": [
      "1\n",
      "4\n",
      "9\n",
      "16\n",
      "25\n",
      "36\n",
      "49\n",
      "64\n",
      "81\n",
      "100\n"
     ]
    }
   ],
   "source": [
    "i=1\n",
    "while (i<=10):\n",
    "    print(i**2)\n",
    "    i+=1"
   ]
  },
  {
   "cell_type": "code",
   "execution_count": 33,
   "id": "76cf2e64-be73-4ffa-8462-5256e7a53feb",
   "metadata": {},
   "outputs": [],
   "source": [
    "def power(number, base):\n",
    "    '''commdkjdsjksdjkvsjnfjnfjf\n",
    "    fnfdjnfdjnf  nb\n",
    "    djkdjkvjnnsjfnjfv\n",
    "    '''\n",
    "    return number, base, number**base"
   ]
  },
  {
   "cell_type": "code",
   "execution_count": 34,
   "id": "1e9f32d4-8df3-44ca-849a-6099f0630022",
   "metadata": {},
   "outputs": [
    {
     "data": {
      "text/plain": [
       "(10, 2, 100)"
      ]
     },
     "execution_count": 34,
     "metadata": {},
     "output_type": "execute_result"
    }
   ],
   "source": [
    "power(10,2)"
   ]
  },
  {
   "cell_type": "code",
   "execution_count": null,
   "id": "66b1ed23-ee02-442b-8e84-900e98e4e16b",
   "metadata": {},
   "outputs": [],
   "source": []
  }
 ],
 "metadata": {
  "kernelspec": {
   "display_name": "Python 3 (ipykernel)",
   "language": "python",
   "name": "python3"
  },
  "language_info": {
   "codemirror_mode": {
    "name": "ipython",
    "version": 3
   },
   "file_extension": ".py",
   "mimetype": "text/x-python",
   "name": "python",
   "nbconvert_exporter": "python",
   "pygments_lexer": "ipython3",
   "version": "3.13.2"
  }
 },
 "nbformat": 4,
 "nbformat_minor": 5
}
