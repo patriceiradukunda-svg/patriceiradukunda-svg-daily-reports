{
 "cells": [
  {
   "cell_type": "markdown",
   "id": "00e82af8-0702-4dd6-9195-ba82f42d0f0a",
   "metadata": {},
   "source": [
    "![AIMS Logo](https://aims.ac.rw/wp-content/uploads/sites/7/2020/10/AIMS-RWANDA-logo-PRINT-RGB.jpg)\n"
   ]
  },
  {
   "cell_type": "markdown",
   "id": "16ab47d7-07e0-4447-8369-880d9680d679",
   "metadata": {},
   "source": [
    "# PyPro-SCiDaS-01 Answers Assignment 2\n",
    "## Name: Patrice IRADUKUNDA\n",
    "## Master’s Student: Mathematical Science – Regular\n",
    "### Date: Saturday, October 04, 2025"
   ]
  },
  {
   "cell_type": "code",
   "execution_count": null,
   "id": "a7de92ac-163c-4369-9667-85b7132e5bef",
   "metadata": {},
   "outputs": [],
   "source": []
  }
 ],
 "metadata": {
  "kernelspec": {
   "display_name": "Python 3 (ipykernel)",
   "language": "python",
   "name": "python3"
  },
  "language_info": {
   "codemirror_mode": {
    "name": "ipython",
    "version": 3
   },
   "file_extension": ".py",
   "mimetype": "text/x-python",
   "name": "python",
   "nbconvert_exporter": "python",
   "pygments_lexer": "ipython3",
   "version": "3.13.2"
  }
 },
 "nbformat": 4,
 "nbformat_minor": 5
}
