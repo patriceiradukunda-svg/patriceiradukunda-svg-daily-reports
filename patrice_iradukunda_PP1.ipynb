{
 "cells": [
  {
   "cell_type": "markdown",
   "id": "23c872a1-d930-4b43-9cbf-b60738984793",
   "metadata": {},
   "source": [
    "# PyPro-SCiDaS-00 Assignment Solutions\n",
    "# African Institute for Mathematical Sciences - AIMS Rwanda\n",
    "\n",
    "## Name: Patrice IRADUKUNDA\n",
    "## Master’s Student: Mathematical Science – Regular\n",
    "### Date: Saturday, September 27, 2025"
   ]
  },
  {
   "cell_type": "code",
   "execution_count": 15,
   "id": "7d8ba9d8-9d47-487c-a92f-6b33ad0ecd73",
   "metadata": {},
   "outputs": [],
   "source": [
    "# After assessing whole my assignment, Ifigured out I want this packages to run some lines in my work\n",
    "import math\n",
    "import random"
   ]
  },
  {
   "cell_type": "markdown",
   "id": "98ffad41-abac-48f1-bbe5-28f9f74aa822",
   "metadata": {},
   "source": [
    "# 1. Getting Help in Python"
   ]
  },
  {
   "cell_type": "code",
   "execution_count": 7,
   "id": "cade9aa4-8746-4dcb-b903-5fa40e0ad4aa",
   "metadata": {},
   "outputs": [
    {
     "name": "stdout",
     "output_type": "stream",
     "text": [
      "================== Getting Help in Python ==================\n",
      "To get help on the print function:\n",
      "Help on built-in function print in module builtins:\n",
      "\n",
      "print(*args, sep=' ', end='\\n', file=None, flush=False)\n",
      "    Prints the values to a stream, or to sys.stdout by default.\n",
      "\n",
      "    sep\n",
      "      string inserted between values, default a space.\n",
      "    end\n",
      "      string appended after the last value, default a newline.\n",
      "    file\n",
      "      a file-like object (stream); defaults to the current sys.stdout.\n",
      "    flush\n",
      "      whether to forcibly flush the stream.\n",
      "\n",
      "\n",
      "To exit help, type 'quit' and press Enter\n"
     ]
    }
   ],
   "source": [
    "# In a terminal or command line:\n",
    "# python\n",
    "# >>> help()\n",
    "# >>> help(print)\n",
    "# >>> quit\n",
    "\n",
    "# Getting help programmatically\n",
    "print(\"================== Getting Help in Python ==================\")\n",
    "print(\"To get help on the print function:\")\n",
    "help(print)\n",
    "\n",
    "print(\"\\nTo exit help, type 'quit' and press Enter\")"
   ]
  },
  {
   "cell_type": "markdown",
   "id": "8dbd8612-e08f-4cfe-a022-b646b38bd036",
   "metadata": {},
   "source": [
    "# 2. Doing Calculation the Python Way\n",
    "### 1. Variable assignments and expressions"
   ]
  },
  {
   "cell_type": "code",
   "execution_count": 12,
   "id": "a741bdb1-77c7-4f29-ae7d-3676b6e20927",
   "metadata": {},
   "outputs": [
    {
     "name": "stdout",
     "output_type": "stream",
     "text": [
      "Variables assigned:\n",
      "width = 17, type: <class 'int'>\n",
      "height = 12.0, type: <class 'float'>\n",
      "delimiter = ', ', type: <class 'str'>\n",
      "___________________________________________________________________________\n",
      "Expression evaluation results:\n",
      "width/2         =        8.5 (type: float)\n",
      "width/2.0       =        8.5 (type: float)\n",
      "height/3        =        4.0 (type: float)\n",
      "1 + 2 * 5       =         11 (type: int)\n",
      "delimiter * 5   = , , , , ,  (type: str)\n"
     ]
    }
   ],
   "source": [
    "# Given\n",
    "width = 17\n",
    "height = 12.0\n",
    "delimiter = ', '\n",
    "\n",
    "print(\"Variables assigned:\")\n",
    "print(f\"width = {width}, type: {type(width)}\")\n",
    "print(f\"height = {height}, type: {type(height)}\")\n",
    "print(f\"delimiter = '{delimiter}', type: {type(delimiter)}\")\n",
    "\n",
    "print('_'*75)\n",
    "\n",
    "# Evaluate each expression and determine its value and type\n",
    "expressions = [\n",
    "    (\"width/2\", width/2),\n",
    "    (\"width/2.0\", width/2.0),\n",
    "    (\"height/3\", height/3),\n",
    "    (\"1 + 2 * 5\", 1 + 2 * 5),\n",
    "    (\"delimiter * 5\", delimiter * 5)\n",
    "]\n",
    "\n",
    "print(\"Expression evaluation results:\")\n",
    "for expr, value in expressions:\n",
    "    print(f\"{expr:15} = {value:10} (type: {type(value).__name__})\")"
   ]
  },
  {
   "cell_type": "markdown",
   "id": "320e08c6-84e2-44d3-a18a-4155a672b1e8",
   "metadata": {},
   "source": [
    "### 2. Volume of a sphere calculation"
   ]
  },
  {
   "cell_type": "code",
   "execution_count": 16,
   "id": "f61201fe-7a67-4d2e-85eb-77aba7d1ebad",
   "metadata": {},
   "outputs": [
    {
     "name": "stdout",
     "output_type": "stream",
     "text": [
      "Radius of sphere: 5\n",
      "Volume of sphere: 523.5988\n",
      "Volume (full precision): 523.5987755982989\n",
      "Formula used: (4/3) × π × r³ = (4/3) × 3.1416 × 5³\n"
     ]
    }
   ],
   "source": [
    "import math\n",
    "def sphere_volume(radius):\n",
    "    \"\"\"Calculate the volume of a sphere with given radius\"\"\"\n",
    "    return (4/3) * math.pi * radius**3\n",
    "\n",
    "radius = 5\n",
    "volume = sphere_volume(radius)\n",
    "\n",
    "print(f\"Radius of sphere: {radius}\")\n",
    "print(f\"Volume of sphere: {volume:.4f}\")\n",
    "print(f\"Volume (full precision): {volume}\")\n",
    "print(f\"Formula used: (4/3) × π × r³ = (4/3) × {math.pi:.4f} × {radius}³\")"
   ]
  },
  {
   "cell_type": "markdown",
   "id": "f885ba63-e20b-423d-90e7-041d23838bbc",
   "metadata": {},
   "source": [
    "# 3. Data Types and Their Operations\n",
    "### 1. Variable assignments and type confirmation"
   ]
  },
  {
   "cell_type": "code",
   "execution_count": 19,
   "id": "d6a50a24-2cf8-49e7-a334-4fa1655acdd0",
   "metadata": {},
   "outputs": [
    {
     "name": "stdout",
     "output_type": "stream",
     "text": [
      "Variable assignments:\n",
      "int_var = 1, type: <class 'int'>\n",
      "float_var = 5.0, type: <class 'float'>\n",
      "str_var = 'ten', type: <class 'str'>\n",
      "\n",
      "Type confirmation:\n",
      "isinstance(int_var, int): True\n",
      "isinstance(float_var, float): True\n",
      "isinstance(str_var, str): True\n"
     ]
    }
   ],
   "source": [
    "# Assign variables with specific types\n",
    "int_var = 1\n",
    "float_var = 5.0\n",
    "str_var = \"ten\"\n",
    "\n",
    "print(\"Variable assignments:\")\n",
    "print(f\"int_var = {int_var}, type: {type(int_var)}\")\n",
    "print(f\"float_var = {float_var}, type: {type(float_var)}\")\n",
    "print(f\"str_var = '{str_var}', type: {type(str_var)}\")\n",
    "\n",
    "# Confirm types\n",
    "print(\"\\nType confirmation:\")\n",
    "print(f\"isinstance(int_var, int): {isinstance(int_var, int)}\")\n",
    "print(f\"isinstance(float_var, float): {isinstance(float_var, float)}\")\n",
    "print(f\"isinstance(str_var, str): {isinstance(str_var, str)}\")"
   ]
  },
  {
   "cell_type": "markdown",
   "id": "9ad98894-ddb1-4022-92d0-eed1a5b8e04b",
   "metadata": {},
   "source": [
    "### 2. Testing + operation with different type pairs"
   ]
  },
  {
   "cell_type": "code",
   "execution_count": 18,
   "id": "bef072d5-d85d-43bb-af41-aa1b8db4101e",
   "metadata": {},
   "outputs": [
    {
     "name": "stdout",
     "output_type": "stream",
     "text": [
      "Testing + operation on different type pairs:\n",
      "int-int      → 1 + 1 = 2 (type: int)\n",
      "int-float    → 1 + 5.0 = 6.0 (type: float)\n",
      "float-float  → 5.0 + 5.0 = 10.0 (type: float)\n",
      "float-str    → ERROR: unsupported operand type(s) for +: 'float' and 'str'\n",
      "str-str      → ten + ten = tenten (type: str)\n"
     ]
    }
   ],
   "source": [
    "type_pairs = [\n",
    "    (\"int-int\", int_var, int_var),\n",
    "    (\"int-float\", int_var, float_var),\n",
    "    (\"float-float\", float_var, float_var),\n",
    "    (\"float-str\", float_var, str_var),\n",
    "    (\"str-str\", str_var, str_var)\n",
    "]\n",
    "\n",
    "print(\"Testing + operation on different type pairs:\")\n",
    "for pair_name, a, b in type_pairs:\n",
    "    try:\n",
    "        result = a + b\n",
    "        print(f\"{pair_name:12} → {a} + {b} = {result} (type: {type(result).__name__})\")\n",
    "    except Exception as e:\n",
    "        print(f\"{pair_name:12} → ERROR: {e}\")"
   ]
  },
  {
   "cell_type": "markdown",
   "id": "cb2ceda0-b07c-4bb7-98ed-069eba4d6bf1",
   "metadata": {},
   "source": [
    "### 3. Testing other operators"
   ]
  },
  {
   "cell_type": "code",
   "execution_count": 21,
   "id": "b98c01fd-5117-4bbc-94d0-b2eef2524ad7",
   "metadata": {},
   "outputs": [
    {
     "name": "stdout",
     "output_type": "stream",
     "text": [
      "\n",
      "Testing '*' operator:\n",
      "  int-int      → 1 * 1 = 1 (type: int)\n",
      "  int-float    → 1 * 5.0 = 5.0 (type: float)\n",
      "  float-float  → 5.0 * 5.0 = 25.0 (type: float)\n",
      "  str-str      → ERROR: can't multiply sequence by non-int of type 'str'\n",
      "\n",
      "Testing '-' operator:\n",
      "  int-int      → 1 - 1 = 0 (type: int)\n",
      "  int-float    → 1 - 5.0 = -4.0 (type: float)\n",
      "  float-float  → 5.0 - 5.0 = 0.0 (type: float)\n",
      "\n",
      "Testing '/' operator:\n",
      "  int-int      → 1 / 1 = 1.0 (type: float)\n",
      "  int-float    → 1 / 5.0 = 0.2 (type: float)\n",
      "  float-float  → 5.0 / 5.0 = 1.0 (type: float)\n",
      "\n",
      "Testing '%' operator:\n",
      "  int-int      → 1 % 1 = 0 (type: int)\n",
      "  int-float    → 1 % 5.0 = 1.0 (type: float)\n",
      "  float-float  → 5.0 % 5.0 = 0.0 (type: float)\n",
      "\n",
      "Testing '<' operator:\n",
      "  int-int      → 1 < 1 = False (type: bool)\n",
      "  int-float    → 1 < 5.0 = True (type: bool)\n",
      "  float-float  → 5.0 < 5.0 = False (type: bool)\n",
      "  str-str      → ten < ten = False (type: bool)\n",
      "\n",
      "Testing '>' operator:\n",
      "  int-int      → 1 > 1 = False (type: bool)\n",
      "  int-float    → 1 > 5.0 = False (type: bool)\n",
      "  float-float  → 5.0 > 5.0 = False (type: bool)\n",
      "  str-str      → ten > ten = False (type: bool)\n",
      "\n",
      "Testing '>=' operator:\n",
      "  int-int      → 1 >= 1 = True (type: bool)\n",
      "  int-float    → 1 >= 5.0 = False (type: bool)\n",
      "  float-float  → 5.0 >= 5.0 = True (type: bool)\n",
      "  str-str      → ten >= ten = True (type: bool)\n",
      "\n",
      "Testing '<=' operator:\n",
      "  int-int      → 1 <= 1 = True (type: bool)\n",
      "  int-float    → 1 <= 5.0 = True (type: bool)\n",
      "  float-float  → 5.0 <= 5.0 = True (type: bool)\n",
      "  str-str      → ten <= ten = True (type: bool)\n",
      "\n",
      "Testing '==' operator:\n",
      "  int-int      → 1 == 1 = True (type: bool)\n",
      "  int-float    → 1 == 5.0 = False (type: bool)\n",
      "  float-float  → 5.0 == 5.0 = True (type: bool)\n",
      "  str-str      → ten == ten = True (type: bool)\n"
     ]
    }
   ],
   "source": [
    "operators = ['*', '-', '/', '%', '<', '>', '>=', '<=', '==']\n",
    "\n",
    "# Tested each operator with different type combinations\n",
    "test_combinations = [\n",
    "    (int_var, int_var, \"int-int\"),\n",
    "    (int_var, float_var, \"int-float\"),\n",
    "    (float_var, float_var, \"float-float\"),\n",
    "    (str_var, str_var, \"str-str\")\n",
    "]\n",
    "\n",
    "for op in operators:\n",
    "    print(f\"\\nTesting '{op}' operator:\")\n",
    "    for a, b, combo_name in test_combinations:\n",
    "        # To Skip certain invalid combinations to avoid excessive errors\n",
    "        if combo_name == \"str-str\" and op in ['-', '/', '%']:\n",
    "            continue\n",
    "            \n",
    "        try:\n",
    "            if op == '*':\n",
    "                result = a * b\n",
    "            elif op == '-':\n",
    "                result = a - b\n",
    "            elif op == '/':\n",
    "                result = a / b\n",
    "            elif op == '%':\n",
    "                result = a % b\n",
    "            elif op == '<':\n",
    "                result = a < b\n",
    "            elif op == '>':\n",
    "                result = a > b\n",
    "            elif op == '>=':\n",
    "                result = a >= b\n",
    "            elif op == '<=':\n",
    "                result = a <= b\n",
    "            elif op == '==':\n",
    "                result = a == b\n",
    "                \n",
    "            print(f\"  {combo_name:12} → {a} {op} {b} = {result} (type: {type(result).__name__})\")\n",
    "        except Exception as e:\n",
    "            print(f\"  {combo_name:12} → ERROR: {e}\")"
   ]
  },
  {
   "cell_type": "markdown",
   "id": "ff7c9f2b-21fc-472a-ba62-54ec29a5ed5d",
   "metadata": {},
   "source": [
    "### 4. Getting help on int and float types"
   ]
  },
  {
   "cell_type": "code",
   "execution_count": 26,
   "id": "8121eb38-9a30-4649-af6b-d2edea182e1d",
   "metadata": {},
   "outputs": [
    {
     "name": "stdout",
     "output_type": "stream",
     "text": [
      "\n",
      "=== Help on int and float types ===\n",
      "To get detailed information about int and float types, runned and read each and everything there:\n",
      "help(int)\n",
      "help(float)\n",
      "\n",
      "Key methods for int type:\n",
      "int.bit_length() example: 1\n",
      "int.to_bytes() example: b'\\x01'\n",
      "\n",
      "Key methods for float type:\n",
      "float.is_integer() example: True\n",
      "float.hex() example: 0x1.4000000000000p+2\n"
     ]
    }
   ],
   "source": [
    "print(\"\\n=== Help on int and float types ===\")\n",
    "\n",
    "print(\"To get detailed information about int and float types, runned and read each and everything there:\")\n",
    "print(\"help(int)\")\n",
    "print(\"help(float)\")\n",
    "\n",
    "# Lemme demonstrate some key methods from these types\n",
    "print(\"\\nKey methods for int type:\")\n",
    "print(\"int.bit_length() example:\", int_var.bit_length())\n",
    "print(\"int.to_bytes() example:\", int_var.to_bytes(1, byteorder='big'))\n",
    "\n",
    "print(\"\\nKey methods for float type:\")\n",
    "print(\"float.is_integer() example:\", float_var.is_integer())\n",
    "print(\"float.hex() example:\", float_var.hex())"
   ]
  },
  {
   "cell_type": "markdown",
   "id": "7d956d0d-57ea-4c60-b343-1bbcc7e09a2f",
   "metadata": {},
   "source": [
    "# 4. Random Number Generator"
   ]
  },
  {
   "cell_type": "code",
   "execution_count": 11,
   "id": "6f4d9862-5a34-464b-9870-b3c1d933f8d0",
   "metadata": {},
   "outputs": [
    {
     "name": "stdout",
     "output_type": "stream",
     "text": [
      "\n",
      "=== Section 4: Random Number Generation ===\n",
      "Python's random module uses the Mersenne Twister algorithm as its core generator.\n",
      "It produces 53-bit precision floats and has a period of 2**19937-1.\n",
      "\n",
      "Random number generation examples:\n",
      "random.random(): 0.32288286781485076\n",
      "random.randint(1, 100): 65\n",
      "random.uniform(1.5, 5.5): 4.0119\n",
      "\n",
      "With seed=42, random.random(): 0.6394267984578837\n",
      "With seed=42 again, random.random(): 0.6394267984578837\n",
      "\n",
      "The random module also includes functions for:\n",
      "- random.choice(sequence): Choose random element from sequence\n",
      "- random.shuffle(sequence): Shuffle sequence in place\n",
      "- random.gauss(mu, sigma): Gaussian distribution\n"
     ]
    }
   ],
   "source": [
    "import random\n",
    "print(\"What I figured out Python's random module uses the Mersenne Twister algorithm as its core generator.\")\n",
    "print(\"It produces 53-bit precision floats and has a period of 2**19937-1.\")\n",
    "\n",
    "# Demonstrate different random number generation methods\n",
    "print(\"\\nRandom number generation examples:\")\n",
    "print(f\"random.random(): {random.random()}\")  # Float between 0 and 1\n",
    "print(f\"random.randint(1, 100): {random.randint(1, 100)}\")  # Integer between 1 and 100\n",
    "print(f\"random.uniform(1.5, 5.5): {random.uniform(1.5, 5.5):.4f}\")  # Float in range\n",
    "\n",
    "# Setting a seed for reproducibility\n",
    "random.seed(42)\n",
    "print(f\"\\nWith seed=42, random.random(): {random.random()}\")\n",
    "\n",
    "# Reset seed and show same result\n",
    "random.seed(42)\n",
    "print(f\"With seed=42 again, random.random(): {random.random()}\")\n",
    "\n",
    "print(\"\\nThe random module also includes functions for:\")\n",
    "print(\"- random.choice(sequence): Choose random element from sequence\")\n",
    "print(\"- random.shuffle(sequence): Shuffle sequence in place\")\n",
    "print(\"- random.gauss(mu, sigma): Gaussian distribution\")"
   ]
  },
  {
   "cell_type": "markdown",
   "id": "901cb013-d4e5-496b-94bf-2e75ce94d53a",
   "metadata": {},
   "source": [
    "# 5. More on Data Types\n",
    "### 1. & 2. math.log10() function"
   ]
  },
  {
   "cell_type": "code",
   "execution_count": 24,
   "id": "b8ed8d8b-0739-4e6e-aad5-7940271ea2a2",
   "metadata": {},
   "outputs": [
    {
     "name": "stdout",
     "output_type": "stream",
     "text": [
      "math.log10(42) = 1.6232 (type: float)\n",
      "math.log10(-0.32) ERROR: math domain error\n",
      "\n",
      "Note: math.log10() of a negative number raises a ValueError\n",
      "because logarithm is undefined for negative numbers in real numbers.\n"
     ]
    }
   ],
   "source": [
    "import math\n",
    "# 1. Test log10 with positive number\n",
    "try:\n",
    "    log_result1 = math.log10(42)\n",
    "    print(f\"math.log10(42) = {log_result1:.4f} (type: {type(log_result1).__name__})\")\n",
    "except Exception as e:\n",
    "    print(f\"math.log10(42) ERROR: {e}\")\n",
    "\n",
    "# 2. Test log10 with negative number\n",
    "try:\n",
    "    log_result2 = math.log10(-0.32)\n",
    "    print(f\"math.log10(-0.32) = {log_result2:.4f} (type: {type(log_result2).__name__})\")\n",
    "except Exception as e:\n",
    "    print(f\"math.log10(-0.32) ERROR: {e}\")\n",
    "\n",
    "print(\"\\nNote: math.log10() of a negative number raises a ValueError\")\n",
    "print(\"because logarithm is undefined for negative numbers in real numbers.\")"
   ]
  },
  {
   "cell_type": "markdown",
   "id": "b2fb80a1-73ac-47c2-9ef4-99cb221c3527",
   "metadata": {},
   "source": [
    "### 3. math.floor() function"
   ]
  },
  {
   "cell_type": "code",
   "execution_count": 25,
   "id": "0809fdeb-5019-4117-95dc-5632c14c4fa5",
   "metadata": {},
   "outputs": [
    {
     "name": "stdout",
     "output_type": "stream",
     "text": [
      "math.floor(7) = 7 (type: int)\n",
      "math.floor(7.8) = 7 (type: int)\n",
      "math.floor(-3.2) = -4 (type: int)\n",
      "\n",
      "Observation: math.floor() always returns an int, regardless of input type\n"
     ]
    }
   ],
   "source": [
    "import math\n",
    "# Test floor with integer\n",
    "int_test = 7\n",
    "float_test = 7.8\n",
    "negative_float = -3.2\n",
    "\n",
    "print(f\"math.floor({int_test}) = {math.floor(int_test)} (type: {type(math.floor(int_test)).__name__})\")\n",
    "print(f\"math.floor({float_test}) = {math.floor(float_test)} (type: {type(math.floor(float_test)).__name__})\")\n",
    "print(f\"math.floor({negative_float}) = {math.floor(negative_float)} (type: {type(math.floor(negative_float)).__name__})\")\n",
    "\n",
    "print(\"\\nObservation: math.floor() always returns an int, regardless of input type\")"
   ]
  },
  {
   "cell_type": "markdown",
   "id": "6a9cbf36-2f9e-4d6b-b014-87f0cc9b4d3b",
   "metadata": {},
   "source": [
    "### 4. len() function"
   ]
  },
  {
   "cell_type": "code",
   "execution_count": 27,
   "id": "a6f2e52d-35fa-4a41-a27c-301328eae58a",
   "metadata": {},
   "outputs": [
    {
     "name": "stdout",
     "output_type": "stream",
     "text": [
      "Testing len() on various data types:\n",
      "len('hello'             ) = 5 (type: int)\n",
      "len([1, 2, 3, 4, 5]     ) = 5 (type: int)\n",
      "len((1, 2, 3)           ) = 3 (type: int)\n",
      "len({1, 2, 3}           ) = 3 (type: int)\n",
      "len({'a': 1, 'b': 2}    ) = 2 (type: int)\n",
      "len(42                  ) = ERROR: TypeError\n",
      "len(3.14                ) = ERROR: TypeError\n",
      "len(True                ) = ERROR: TypeError\n",
      "\n",
      "From my observation: len() works on sequences and collections, not on scalar types\n",
      "It returns the actual number of elements (not length+1)\n"
     ]
    }
   ],
   "source": [
    "# 4. Test len() with different data types\n",
    "test_items = [\n",
    "    \"hello\",           # string\n",
    "    [1, 2, 3, 4, 5],   # list\n",
    "    (1, 2, 3),         # tuple\n",
    "    {1, 2, 3},         # set\n",
    "    {\"a\": 1, \"b\": 2},  # dictionary\n",
    "    42,                # int\n",
    "    3.14,              # float\n",
    "    True               # boolean\n",
    "]\n",
    "\n",
    "print(\"Testing len() on various data types:\")\n",
    "for item in test_items:\n",
    "    try:\n",
    "        length = len(item)\n",
    "        print(f\"len({item!r:20}) = {length} (type: {type(length).__name__})\")\n",
    "    except Exception as e:\n",
    "        print(f\"len({item!r:20}) = ERROR: {type(e).__name__}\")\n",
    "\n",
    "print(\"\\nFrom my observation: len() works on sequences and collections, not on scalar types\")\n",
    "print(\"It returns the actual number of elements (not length+1)\")"
   ]
  },
  {
   "cell_type": "markdown",
   "id": "d21a13d9-a3df-4a12-8368-584f5594f89a",
   "metadata": {},
   "source": [
    "### 5. Counting digits in a non-negative integer"
   ]
  },
  {
   "cell_type": "code",
   "execution_count": null,
   "id": "486cb871-7fcb-4252-9662-da2fc5fde305",
   "metadata": {},
   "outputs": [],
   "source": [
    "import math\n",
    "def count_digits_number(n):\n",
    "    \"\"\"Count the number of digits in a non-negative integer using mathematical approach\"\"\"\n",
    "    if n == 0:\n",
    "        return 1\n",
    "    return math.floor(math.log10(n)) + 1\n",
    "\n",
    "def count_digits_string(n):\n",
    "    \"\"\"Count the number of digits by converting to string\"\"\"\n",
    "    return len(str(n))\n",
    "\n",
    "# Test with various numbers\n",
    "test_numbers = [0, 5, 42, 100, 12345, 999999, 10**10]\n",
    "\n",
    "print(\"Digit counting comparison:\")\n",
    "print(\"Number\".rjust(15), \"Math Method\".rjust(12), \"String Method\".rjust(12))\n",
    "print(\"-\" * 45)\n",
    "\n",
    "for num in test_numbers:\n",
    "    math_count = count_digits_number(num)\n",
    "    str_count = count_digits_string(num)\n",
    "    print(f\"{num:15,} {math_count:12} {str_count:12}\")\n",
    "\n",
    "print(\"\\nFor me I chose to try both methods to check if give out the same result for non-negative integers\")\n",
    "print(\"The mathematical method uses: floor(log10(n)) + 1\")\n",
    "print(\"Special case: when n=0, log10(0) is undefined, so I choose to handle it separately\")"
   ]
  }
 ],
 "metadata": {
  "kernelspec": {
   "display_name": "Python 3 (ipykernel)",
   "language": "python",
   "name": "python3"
  },
  "language_info": {
   "codemirror_mode": {
    "name": "ipython",
    "version": 3
   },
   "file_extension": ".py",
   "mimetype": "text/x-python",
   "name": "python",
   "nbconvert_exporter": "python",
   "pygments_lexer": "ipython3",
   "version": "3.13.2"
  }
 },
 "nbformat": 4,
 "nbformat_minor": 5
}
