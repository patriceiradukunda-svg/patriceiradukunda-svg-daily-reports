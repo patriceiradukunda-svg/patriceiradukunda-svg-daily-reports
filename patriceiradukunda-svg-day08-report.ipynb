{
 "cells": [
  {
   "cell_type": "markdown",
   "id": "2d8b037a-b5e8-4a98-8f9a-a2f3a8cc7e6e",
   "metadata": {},
   "source": [
    "# Recursive function"
   ]
  },
  {
   "cell_type": "code",
   "execution_count": 3,
   "id": "54b88a17-a303-4bca-b882-1ab6240af95d",
   "metadata": {},
   "outputs": [],
   "source": [
    "def fact(n):\n",
    "    if n<=1:\n",
    "        return 1\n",
    "    return n*fact(n-1)\n"
   ]
  },
  {
   "cell_type": "code",
   "execution_count": 4,
   "id": "1ee85d86-ba1f-4ea6-8c8b-3341999b47a8",
   "metadata": {},
   "outputs": [
    {
     "data": {
      "text/plain": [
       "24"
      ]
     },
     "execution_count": 4,
     "metadata": {},
     "output_type": "execute_result"
    }
   ],
   "source": [
    "fact(4)"
   ]
  },
  {
   "cell_type": "code",
   "execution_count": 16,
   "id": "f75b2a50-3c86-457f-be11-c7949093acb0",
   "metadata": {},
   "outputs": [],
   "source": [
    "def fibb(f):\n",
    "    if f<=1:\n",
    "        return f\n",
    "    return fibb(f-1)+fibb(f-2)"
   ]
  },
  {
   "cell_type": "code",
   "execution_count": 17,
   "id": "d182f4fb-5354-4f27-a7c5-1b19a23f9765",
   "metadata": {},
   "outputs": [
    {
     "data": {
      "text/plain": [
       "55"
      ]
     },
     "execution_count": 17,
     "metadata": {},
     "output_type": "execute_result"
    }
   ],
   "source": [
    "fibb(10)"
   ]
  },
  {
   "cell_type": "markdown",
   "id": "ce8dc7d0-c844-4eef-a53c-243bd7bce7e3",
   "metadata": {},
   "source": [
    "# lambda function"
   ]
  },
  {
   "cell_type": "code",
   "execution_count": 22,
   "id": "b874fd06-3027-4486-be9c-d6f057fab8d3",
   "metadata": {},
   "outputs": [
    {
     "name": "stdout",
     "output_type": "stream",
     "text": [
      "<function power.<locals>.<lambda> at 0x000002394A3DFC40>\n"
     ]
    }
   ],
   "source": [
    "def power(n):\n",
    "    return lambda x: x**n\n",
    "sq=(power(50))\n",
    "print(sq)"
   ]
  }
 ],
 "metadata": {
  "kernelspec": {
   "display_name": "Python 3 (ipykernel)",
   "language": "python",
   "name": "python3"
  },
  "language_info": {
   "codemirror_mode": {
    "name": "ipython",
    "version": 3
   },
   "file_extension": ".py",
   "mimetype": "text/x-python",
   "name": "python",
   "nbconvert_exporter": "python",
   "pygments_lexer": "ipython3",
   "version": "3.13.2"
  }
 },
 "nbformat": 4,
 "nbformat_minor": 5
}
