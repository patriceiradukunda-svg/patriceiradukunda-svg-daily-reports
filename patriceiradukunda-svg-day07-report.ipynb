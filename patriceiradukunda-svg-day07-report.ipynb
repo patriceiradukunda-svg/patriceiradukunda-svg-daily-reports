{
 "cells": [
  {
   "cell_type": "markdown",
   "id": "118114bd-b8f2-4069-9902-28dcf94ed9c6",
   "metadata": {},
   "source": [
    "# Function"
   ]
  },
  {
   "cell_type": "code",
   "execution_count": 6,
   "id": "dc7eb97a-f12d-4fe2-a71c-ab1a87582332",
   "metadata": {},
   "outputs": [
    {
     "name": "stdout",
     "output_type": "stream",
     "text": [
      "1 x 8 = 8\n",
      "2 x 8 = 16\n",
      "3 x 8 = 24\n",
      "4 x 8 = 32\n",
      "5 x 8 = 40\n",
      "6 x 8 = 48\n",
      "7 x 8 = 56\n",
      "8 x 8 = 64\n",
      "9 x 8 = 72\n",
      "10 x 8 = 80\n"
     ]
    }
   ],
   "source": [
    "def multtable_table_8():\n",
    "    n=1\n",
    "    while n<=10:\n",
    "        v=n*8\n",
    "        print(n, 'x', 8,\"=\",v, sep=' ')\n",
    "        n=n+1\n",
    "multtable_table_8()"
   ]
  },
  {
   "cell_type": "code",
   "execution_count": 53,
   "id": "2d777c0f-2c82-473a-8b75-b17a435ab2de",
   "metadata": {},
   "outputs": [],
   "source": [
    "def mult_n(multi_n):\n",
    "    for n in range(1, multi_n+1):\n",
    "        print(f\"\\nMultiplication Table of {n}\") \n",
    "        for i in range(1, 11):\n",
    "            print(f\"{n} * {i} = {n * i}\")\n",
    "        "
   ]
  },
  {
   "cell_type": "code",
   "execution_count": 54,
   "id": "8f2b36df-ed03-4c1b-862e-5577b4ec694e",
   "metadata": {},
   "outputs": [
    {
     "name": "stdout",
     "output_type": "stream",
     "text": [
      "\n",
      "Multiplication Table of 1\n",
      "1 * 1 = 1\n",
      "1 * 2 = 2\n",
      "1 * 3 = 3\n",
      "1 * 4 = 4\n",
      "1 * 5 = 5\n",
      "1 * 6 = 6\n",
      "1 * 7 = 7\n",
      "1 * 8 = 8\n",
      "1 * 9 = 9\n",
      "1 * 10 = 10\n",
      "\n",
      "Multiplication Table of 2\n",
      "2 * 1 = 2\n",
      "2 * 2 = 4\n",
      "2 * 3 = 6\n",
      "2 * 4 = 8\n",
      "2 * 5 = 10\n",
      "2 * 6 = 12\n",
      "2 * 7 = 14\n",
      "2 * 8 = 16\n",
      "2 * 9 = 18\n",
      "2 * 10 = 20\n",
      "\n",
      "Multiplication Table of 3\n",
      "3 * 1 = 3\n",
      "3 * 2 = 6\n",
      "3 * 3 = 9\n",
      "3 * 4 = 12\n",
      "3 * 5 = 15\n",
      "3 * 6 = 18\n",
      "3 * 7 = 21\n",
      "3 * 8 = 24\n",
      "3 * 9 = 27\n",
      "3 * 10 = 30\n",
      "\n",
      "Multiplication Table of 4\n",
      "4 * 1 = 4\n",
      "4 * 2 = 8\n",
      "4 * 3 = 12\n",
      "4 * 4 = 16\n",
      "4 * 5 = 20\n",
      "4 * 6 = 24\n",
      "4 * 7 = 28\n",
      "4 * 8 = 32\n",
      "4 * 9 = 36\n",
      "4 * 10 = 40\n",
      "\n",
      "Multiplication Table of 5\n",
      "5 * 1 = 5\n",
      "5 * 2 = 10\n",
      "5 * 3 = 15\n",
      "5 * 4 = 20\n",
      "5 * 5 = 25\n",
      "5 * 6 = 30\n",
      "5 * 7 = 35\n",
      "5 * 8 = 40\n",
      "5 * 9 = 45\n",
      "5 * 10 = 50\n"
     ]
    }
   ],
   "source": [
    "mult_n(5)"
   ]
  },
  {
   "cell_type": "code",
   "execution_count": 29,
   "id": "32afd05f-45eb-487b-b1d6-d4269e48c378",
   "metadata": {},
   "outputs": [],
   "source": [
    "def square(x):\n",
    "    '''this function is for square of number,\n",
    "    Input: number need to be sqr\n",
    "    output: the results'''\n",
    "    return x**2\n",
    "    "
   ]
  },
  {
   "cell_type": "code",
   "execution_count": 31,
   "id": "8afce2bd-f4d7-44d0-ace1-8f3bdc8a8dab",
   "metadata": {},
   "outputs": [
    {
     "data": {
      "text/plain": [
       "16"
      ]
     },
     "execution_count": 31,
     "metadata": {},
     "output_type": "execute_result"
    }
   ],
   "source": [
    "square(4)"
   ]
  },
  {
   "cell_type": "code",
   "execution_count": 49,
   "id": "f02e34c0-d4fd-4a68-b78b-e4a630c42339",
   "metadata": {},
   "outputs": [],
   "source": [
    "def area(l,w):\n",
    "    '''This is the function of computing the area of the rectangle,\n",
    "    inputs are l: length and w: width and the output is the area.'''\n",
    "    return l*w\n",
    "    print(f'The area of this rectange is {area} when l={l} and w={w} ')"
   ]
  },
  {
   "cell_type": "code",
   "execution_count": 50,
   "id": "5a176ae6-5c94-4ed7-a83d-f09614402e96",
   "metadata": {
    "scrolled": true
   },
   "outputs": [
    {
     "data": {
      "text/plain": [
       "540"
      ]
     },
     "execution_count": 50,
     "metadata": {},
     "output_type": "execute_result"
    }
   ],
   "source": [
    "area(30,18)"
   ]
  },
  {
   "cell_type": "code",
   "execution_count": null,
   "id": "2d8c5612-a94f-411d-bbdd-874d318fdf80",
   "metadata": {},
   "outputs": [],
   "source": []
  }
 ],
 "metadata": {
  "kernelspec": {
   "display_name": "Python 3 (ipykernel)",
   "language": "python",
   "name": "python3"
  },
  "language_info": {
   "codemirror_mode": {
    "name": "ipython",
    "version": 3
   },
   "file_extension": ".py",
   "mimetype": "text/x-python",
   "name": "python",
   "nbconvert_exporter": "python",
   "pygments_lexer": "ipython3",
   "version": "3.13.2"
  }
 },
 "nbformat": 4,
 "nbformat_minor": 5
}
